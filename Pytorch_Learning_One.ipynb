{
  "nbformat": 4,
  "nbformat_minor": 0,
  "metadata": {
    "colab": {
      "name": "Pytorch_Learning_One.ipynb",
      "provenance": [],
      "collapsed_sections": []
    },
    "kernelspec": {
      "name": "python3",
      "display_name": "Python 3"
    }
  },
  "cells": [
    {
      "cell_type": "markdown",
      "metadata": {
        "id": "kAOm_U-mpvFP",
        "colab_type": "text"
      },
      "source": [
        "There are 5 major components in a Pytorch model, which can be grouped into two classes, Storage and Transformers. (from the blog post- A comprehensive overiew of Pytorch).\n",
        "Pytorch is an optimized tensor library for deep learning using GPU and TPU.(from Pytorch documentation)\n"
      ]
    },
    {
      "cell_type": "markdown",
      "metadata": {
        "id": "1TRaNvjks5km",
        "colab_type": "text"
      },
      "source": [
        "torch.cuda.DtypeTensor defines a tensor wich Dtype as Byte, Char, Short, Int, Long, Half, Float, Double. A tensor is a multidimensional array of single data type."
      ]
    },
    {
      "cell_type": "code",
      "metadata": {
        "id": "q1uYxZbBpdd0",
        "colab_type": "code",
        "colab": {}
      },
      "source": [
        "import torch\n",
        "import numpy as np\n",
        "import pandas as pd"
      ],
      "execution_count": 0,
      "outputs": []
    },
    {
      "cell_type": "code",
      "metadata": {
        "id": "MIBZlllitp1j",
        "colab_type": "code",
        "outputId": "e8f0a9b2-e78e-46db-cfa8-d261476d7068",
        "colab": {
          "base_uri": "https://localhost:8080/",
          "height": 53
        }
      },
      "source": [
        "torch.tensor([[1,-1],[-1,1]])"
      ],
      "execution_count": 0,
      "outputs": [
        {
          "output_type": "execute_result",
          "data": {
            "text/plain": [
              "tensor([[ 1, -1],\n",
              "        [-1,  1]])"
            ]
          },
          "metadata": {
            "tags": []
          },
          "execution_count": 5
        }
      ]
    },
    {
      "cell_type": "code",
      "metadata": {
        "id": "AqpEo-P-uIJp",
        "colab_type": "code",
        "outputId": "358e80f1-17ac-43a3-c69f-ad3cb59e9353",
        "colab": {
          "base_uri": "https://localhost:8080/",
          "height": 53
        }
      },
      "source": [
        "torch.as_tensor(np.array([[1,2,3],[4,5,6]])) #as_tensor does not copy data"
      ],
      "execution_count": 0,
      "outputs": [
        {
          "output_type": "execute_result",
          "data": {
            "text/plain": [
              "tensor([[1, 2, 3],\n",
              "        [4, 5, 6]])"
            ]
          },
          "metadata": {
            "tags": []
          },
          "execution_count": 8
        }
      ]
    },
    {
      "cell_type": "code",
      "metadata": {
        "id": "uVss2Gx6uuUW",
        "colab_type": "code",
        "outputId": "78dd46e3-0673-4528-ce21-0702010a5d96",
        "colab": {
          "base_uri": "https://localhost:8080/",
          "height": 35
        }
      },
      "source": [
        "print(torch.cuda.is_available())"
      ],
      "execution_count": 0,
      "outputs": [
        {
          "output_type": "stream",
          "text": [
            "False\n"
          ],
          "name": "stdout"
        }
      ]
    },
    {
      "cell_type": "code",
      "metadata": {
        "id": "FXbIRbYPv6-s",
        "colab_type": "code",
        "outputId": "ef486070-e5b6-4387-d676-8f71f65de56b",
        "colab": {
          "base_uri": "https://localhost:8080/",
          "height": 53
        }
      },
      "source": [
        "mytensor = torch.zeros([2,4])\n",
        "mytensor"
      ],
      "execution_count": 0,
      "outputs": [
        {
          "output_type": "execute_result",
          "data": {
            "text/plain": [
              "tensor([[0., 0., 0., 0.],\n",
              "        [0., 0., 0., 0.]])"
            ]
          },
          "metadata": {
            "tags": []
          },
          "execution_count": 14
        }
      ]
    },
    {
      "cell_type": "code",
      "metadata": {
        "id": "XAUvCIK3wEuE",
        "colab_type": "code",
        "outputId": "eb1ae935-4463-488e-aaf9-4257b04e239f",
        "colab": {
          "base_uri": "https://localhost:8080/",
          "height": 53
        }
      },
      "source": [
        "mytensor = torch.zeros([2,4], dtype=torch.int16)\n",
        "mytensor"
      ],
      "execution_count": 0,
      "outputs": [
        {
          "output_type": "execute_result",
          "data": {
            "text/plain": [
              "tensor([[0, 0, 0, 0],\n",
              "        [0, 0, 0, 0]], dtype=torch.int16)"
            ]
          },
          "metadata": {
            "tags": []
          },
          "execution_count": 19
        }
      ]
    },
    {
      "cell_type": "markdown",
      "metadata": {
        "id": "g0ytFSXYw4Z4",
        "colab_type": "text"
      },
      "source": [
        "Use your favourite numpy or pandas like indexing to access the elements of the Tensor."
      ]
    },
    {
      "cell_type": "code",
      "metadata": {
        "id": "P8Rf0vBjw0KA",
        "colab_type": "code",
        "outputId": "b5cb0322-f5dd-4010-d59f-d0ab9f09b429",
        "colab": {
          "base_uri": "https://localhost:8080/",
          "height": 35
        }
      },
      "source": [
        "mytensor = torch.IntTensor([[1,2,3],[4,5,6],[7,8,9]])\n",
        "mytensor[1,2]"
      ],
      "execution_count": 0,
      "outputs": [
        {
          "output_type": "execute_result",
          "data": {
            "text/plain": [
              "tensor(6, dtype=torch.int32)"
            ]
          },
          "metadata": {
            "tags": []
          },
          "execution_count": 20
        }
      ]
    },
    {
      "cell_type": "code",
      "metadata": {
        "id": "1a9unQ1ixTBH",
        "colab_type": "code",
        "outputId": "6a5d18ae-fabb-4fe5-8685-9d9df641145b",
        "colab": {
          "base_uri": "https://localhost:8080/",
          "height": 90
        }
      },
      "source": [
        "print(mytensor[0,1])\n",
        "print(mytensor[1,1])\n",
        "print(mytensor[1][1])\n",
        "print(mytensor.shape)"
      ],
      "execution_count": 0,
      "outputs": [
        {
          "output_type": "stream",
          "text": [
            "tensor(2, dtype=torch.int32)\n",
            "tensor(5, dtype=torch.int32)\n",
            "tensor(5, dtype=torch.int32)\n",
            "torch.Size([3, 3])\n"
          ],
          "name": "stdout"
        }
      ]
    },
    {
      "cell_type": "markdown",
      "metadata": {
        "id": "5Fh1cU9lxyxR",
        "colab_type": "text"
      },
      "source": [
        "We can create Tensors of more than two dimensions. We create a tensor of three 2x2 matrices below."
      ]
    },
    {
      "cell_type": "code",
      "metadata": {
        "id": "yB3y4gOdxxbp",
        "colab_type": "code",
        "outputId": "396b9d5d-a8c6-43ca-c042-1cfac6f0bb9b",
        "colab": {
          "base_uri": "https://localhost:8080/",
          "height": 126
        }
      },
      "source": [
        "mytensor = torch.IntTensor([[[1,2],[3,4]],[[5,6],[7,8]],[[9,10],[11,12]]])\n",
        "print(mytensor.shape)\n",
        "print(mytensor[0][1][1])\n",
        "print(mytensor[2][1][1])\n",
        "mytensor[2,1,1] = 13\n",
        "print(mytensor[2][1][1])\n",
        "print(mytensor[1][0])\n",
        "mytensor[1][0] = torch.IntTensor([20,21])\n",
        "print(mytensor[1][0])"
      ],
      "execution_count": 0,
      "outputs": [
        {
          "output_type": "stream",
          "text": [
            "torch.Size([3, 2, 2])\n",
            "tensor(4, dtype=torch.int32)\n",
            "tensor(12, dtype=torch.int32)\n",
            "tensor(13, dtype=torch.int32)\n",
            "tensor([5, 6], dtype=torch.int32)\n",
            "tensor([20, 21], dtype=torch.int32)\n"
          ],
          "name": "stdout"
        }
      ]
    },
    {
      "cell_type": "markdown",
      "metadata": {
        "id": "g8iYX_fqyo-8",
        "colab_type": "text"
      },
      "source": [
        "We have to follow datatypes with precision hierarchy or else be ready to lose precision"
      ]
    },
    {
      "cell_type": "code",
      "metadata": {
        "id": "bvC9yME7zUgh",
        "colab_type": "code",
        "outputId": "b6be63c4-b535-4f92-a20b-36bcee87f9d2",
        "colab": {
          "base_uri": "https://localhost:8080/",
          "height": 53
        }
      },
      "source": [
        "mytensor[1][0] = torch.FloatTensor([22.5,23.5])\n",
        "print(mytensor[1])"
      ],
      "execution_count": 0,
      "outputs": [
        {
          "output_type": "stream",
          "text": [
            "tensor([[22, 23],\n",
            "        [ 7,  8]], dtype=torch.int32)\n"
          ],
          "name": "stdout"
        }
      ]
    },
    {
      "cell_type": "markdown",
      "metadata": {
        "id": "0hyIJnOn0n0M",
        "colab_type": "text"
      },
      "source": [
        "Use .to() method to change the data type of the tensor."
      ]
    },
    {
      "cell_type": "code",
      "metadata": {
        "id": "X8upzpKy0mZK",
        "colab_type": "code",
        "outputId": "f313d90b-693c-4420-b590-4e08719c043c",
        "colab": {
          "base_uri": "https://localhost:8080/",
          "height": 53
        }
      },
      "source": [
        "newtensor = mytensor.to(torch.float32)\n",
        "newtensor[1][0] = torch.FloatTensor([22.5,23.5])\n",
        "print(newtensor[1])"
      ],
      "execution_count": 0,
      "outputs": [
        {
          "output_type": "stream",
          "text": [
            "tensor([[22.5000, 23.5000],\n",
            "        [ 7.0000,  8.0000]])\n"
          ],
          "name": "stdout"
        }
      ]
    }
  ]
}